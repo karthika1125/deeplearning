{
 "cells": [
  {
   "cell_type": "code",
   "execution_count": 1,
   "id": "3f25ce59-b659-49b9-b422-a51e70952497",
   "metadata": {},
   "outputs": [
    {
     "name": "stdout",
     "output_type": "stream",
     "text": [
      "Requirement already satisfied: TensorFlow in c:\\users\\maluk\\anaconda3\\lib\\site-packages (2.18.0)\n",
      "Requirement already satisfied: tensorflow-intel==2.18.0 in c:\\users\\maluk\\anaconda3\\lib\\site-packages (from TensorFlow) (2.18.0)\n",
      "Requirement already satisfied: absl-py>=1.0.0 in c:\\users\\maluk\\anaconda3\\lib\\site-packages (from tensorflow-intel==2.18.0->TensorFlow) (2.1.0)\n",
      "Requirement already satisfied: astunparse>=1.6.0 in c:\\users\\maluk\\anaconda3\\lib\\site-packages (from tensorflow-intel==2.18.0->TensorFlow) (1.6.3)\n",
      "Requirement already satisfied: flatbuffers>=24.3.25 in c:\\users\\maluk\\anaconda3\\lib\\site-packages (from tensorflow-intel==2.18.0->TensorFlow) (24.3.25)\n",
      "Requirement already satisfied: gast!=0.5.0,!=0.5.1,!=0.5.2,>=0.2.1 in c:\\users\\maluk\\anaconda3\\lib\\site-packages (from tensorflow-intel==2.18.0->TensorFlow) (0.5.3)\n",
      "Requirement already satisfied: google-pasta>=0.1.1 in c:\\users\\maluk\\anaconda3\\lib\\site-packages (from tensorflow-intel==2.18.0->TensorFlow) (0.2.0)\n",
      "Requirement already satisfied: libclang>=13.0.0 in c:\\users\\maluk\\anaconda3\\lib\\site-packages (from tensorflow-intel==2.18.0->TensorFlow) (18.1.1)\n",
      "Requirement already satisfied: opt-einsum>=2.3.2 in c:\\users\\maluk\\anaconda3\\lib\\site-packages (from tensorflow-intel==2.18.0->TensorFlow) (3.3.0)\n",
      "Requirement already satisfied: packaging in c:\\users\\maluk\\anaconda3\\lib\\site-packages (from tensorflow-intel==2.18.0->TensorFlow) (25.0)\n",
      "Requirement already satisfied: protobuf!=4.21.0,!=4.21.1,!=4.21.2,!=4.21.3,!=4.21.4,!=4.21.5,<6.0.0dev,>=3.20.3 in c:\\users\\maluk\\anaconda3\\lib\\site-packages (from tensorflow-intel==2.18.0->TensorFlow) (5.29.3)\n",
      "Requirement already satisfied: requests<3,>=2.21.0 in c:\\users\\maluk\\anaconda3\\lib\\site-packages (from tensorflow-intel==2.18.0->TensorFlow) (2.32.3)\n",
      "Requirement already satisfied: setuptools in c:\\users\\maluk\\anaconda3\\lib\\site-packages (from tensorflow-intel==2.18.0->TensorFlow) (80.3.1)\n",
      "Requirement already satisfied: six>=1.12.0 in c:\\users\\maluk\\anaconda3\\lib\\site-packages (from tensorflow-intel==2.18.0->TensorFlow) (1.16.0)\n",
      "Requirement already satisfied: termcolor>=1.1.0 in c:\\users\\maluk\\anaconda3\\lib\\site-packages (from tensorflow-intel==2.18.0->TensorFlow) (2.1.0)\n",
      "Requirement already satisfied: typing-extensions>=3.6.6 in c:\\users\\maluk\\anaconda3\\lib\\site-packages (from tensorflow-intel==2.18.0->TensorFlow) (4.13.2)\n",
      "Requirement already satisfied: wrapt>=1.11.0 in c:\\users\\maluk\\anaconda3\\lib\\site-packages (from tensorflow-intel==2.18.0->TensorFlow) (1.14.1)\n",
      "Requirement already satisfied: grpcio<2.0,>=1.24.3 in c:\\users\\maluk\\anaconda3\\lib\\site-packages (from tensorflow-intel==2.18.0->TensorFlow) (1.70.0)\n",
      "Requirement already satisfied: tensorboard<2.19,>=2.18 in c:\\users\\maluk\\anaconda3\\lib\\site-packages (from tensorflow-intel==2.18.0->TensorFlow) (2.18.0)\n",
      "Requirement already satisfied: keras>=3.5.0 in c:\\users\\maluk\\anaconda3\\lib\\site-packages (from tensorflow-intel==2.18.0->TensorFlow) (3.6.0)\n",
      "Requirement already satisfied: numpy<2.1.0,>=1.26.0 in c:\\users\\maluk\\anaconda3\\lib\\site-packages (from tensorflow-intel==2.18.0->TensorFlow) (1.26.4)\n",
      "Requirement already satisfied: h5py>=3.11.0 in c:\\users\\maluk\\anaconda3\\lib\\site-packages (from tensorflow-intel==2.18.0->TensorFlow) (3.12.1)\n",
      "Requirement already satisfied: ml-dtypes<0.5.0,>=0.4.0 in c:\\users\\maluk\\anaconda3\\lib\\site-packages (from tensorflow-intel==2.18.0->TensorFlow) (0.4.1)\n",
      "Requirement already satisfied: wheel<1.0,>=0.23.0 in c:\\users\\maluk\\anaconda3\\lib\\site-packages (from astunparse>=1.6.0->tensorflow-intel==2.18.0->TensorFlow) (0.44.0)\n",
      "Requirement already satisfied: rich in c:\\users\\maluk\\anaconda3\\lib\\site-packages (from keras>=3.5.0->tensorflow-intel==2.18.0->TensorFlow) (14.0.0)\n",
      "Requirement already satisfied: namex in c:\\users\\maluk\\anaconda3\\lib\\site-packages (from keras>=3.5.0->tensorflow-intel==2.18.0->TensorFlow) (0.0.7)\n",
      "Requirement already satisfied: optree in c:\\users\\maluk\\anaconda3\\lib\\site-packages (from keras>=3.5.0->tensorflow-intel==2.18.0->TensorFlow) (0.14.1)\n",
      "Requirement already satisfied: charset-normalizer<4,>=2 in c:\\users\\maluk\\anaconda3\\lib\\site-packages (from requests<3,>=2.21.0->tensorflow-intel==2.18.0->TensorFlow) (3.4.2)\n",
      "Requirement already satisfied: idna<4,>=2.5 in c:\\users\\maluk\\anaconda3\\lib\\site-packages (from requests<3,>=2.21.0->tensorflow-intel==2.18.0->TensorFlow) (3.10)\n",
      "Requirement already satisfied: urllib3<3,>=1.21.1 in c:\\users\\maluk\\anaconda3\\lib\\site-packages (from requests<3,>=2.21.0->tensorflow-intel==2.18.0->TensorFlow) (2.4.0)\n",
      "Requirement already satisfied: certifi>=2017.4.17 in c:\\users\\maluk\\anaconda3\\lib\\site-packages (from requests<3,>=2.21.0->tensorflow-intel==2.18.0->TensorFlow) (2025.4.26)\n",
      "Requirement already satisfied: markdown>=2.6.8 in c:\\users\\maluk\\anaconda3\\lib\\site-packages (from tensorboard<2.19,>=2.18->tensorflow-intel==2.18.0->TensorFlow) (3.8)\n",
      "Requirement already satisfied: tensorboard-data-server<0.8.0,>=0.7.0 in c:\\users\\maluk\\anaconda3\\lib\\site-packages (from tensorboard<2.19,>=2.18->tensorflow-intel==2.18.0->TensorFlow) (0.7.0)\n",
      "Requirement already satisfied: werkzeug>=1.0.1 in c:\\users\\maluk\\anaconda3\\lib\\site-packages (from tensorboard<2.19,>=2.18->tensorflow-intel==2.18.0->TensorFlow) (3.1.3)\n",
      "Requirement already satisfied: MarkupSafe>=2.1.1 in c:\\users\\maluk\\anaconda3\\lib\\site-packages (from werkzeug>=1.0.1->tensorboard<2.19,>=2.18->tensorflow-intel==2.18.0->TensorFlow) (3.0.2)\n",
      "Requirement already satisfied: markdown-it-py>=2.2.0 in c:\\users\\maluk\\anaconda3\\lib\\site-packages (from rich->keras>=3.5.0->tensorflow-intel==2.18.0->TensorFlow) (3.0.0)\n",
      "Requirement already satisfied: pygments<3.0.0,>=2.13.0 in c:\\users\\maluk\\anaconda3\\lib\\site-packages (from rich->keras>=3.5.0->tensorflow-intel==2.18.0->TensorFlow) (2.19.1)\n",
      "Requirement already satisfied: mdurl~=0.1 in c:\\users\\maluk\\anaconda3\\lib\\site-packages (from markdown-it-py>=2.2.0->rich->keras>=3.5.0->tensorflow-intel==2.18.0->TensorFlow) (0.1.2)\n"
     ]
    }
   ],
   "source": [
    "!pip install TensorFlow"
   ]
  },
  {
   "cell_type": "code",
   "execution_count": 2,
   "id": "92a49ac9-c2e5-4060-b37c-e644d411e6f5",
   "metadata": {},
   "outputs": [
    {
     "name": "stdout",
     "output_type": "stream",
     "text": [
      "Found existing installation: wrapt 1.14.1\n",
      "Uninstalling wrapt-1.14.1:\n",
      "  Successfully uninstalled wrapt-1.14.1\n",
      "Note: you may need to restart the kernel to use updated packages.\n"
     ]
    },
    {
     "name": "stderr",
     "output_type": "stream",
     "text": [
      "WARNING: Failed to remove contents in a temporary directory 'C:\\Users\\maluk\\anaconda3\\Lib\\site-packages\\~rapt'.\n",
      "You can safely remove it manually.\n"
     ]
    }
   ],
   "source": [
    "pip uninstall wrapt -y\n"
   ]
  },
  {
   "cell_type": "code",
   "execution_count": 3,
   "id": "139dfbd1-c24e-4884-9de8-6590ce6485bd",
   "metadata": {},
   "outputs": [
    {
     "name": "stdout",
     "output_type": "stream",
     "text": [
      "Collecting wrapt==1.14.1\n",
      "  Using cached wrapt-1.14.1-cp312-cp312-win_amd64.whl\n",
      "Installing collected packages: wrapt\n",
      "Successfully installed wrapt-1.14.1\n"
     ]
    }
   ],
   "source": [
    "!pip install --force-reinstall wrapt==1.14.1\n"
   ]
  },
  {
   "cell_type": "code",
   "execution_count": 4,
   "id": "08ab192b-c938-4d80-a7b1-4f104184fa89",
   "metadata": {},
   "outputs": [
    {
     "name": "stdout",
     "output_type": "stream",
     "text": [
      "Name: tensorflow\n",
      "Version: 2.18.0\n",
      "Summary: TensorFlow is an open source machine learning framework for everyone.\n",
      "Home-page: https://www.tensorflow.org/\n",
      "Author: Google Inc.\n",
      "Author-email: packages@tensorflow.org\n",
      "License: Apache 2.0\n",
      "Location: C:\\Users\\maluk\\anaconda3\\Lib\\site-packages\n",
      "Requires: tensorflow-intel\n",
      "Required-by: deepface, retina-face, tf_keras\n"
     ]
    }
   ],
   "source": [
    "!pip show tensorflow\n"
   ]
  },
  {
   "cell_type": "code",
   "execution_count": 5,
   "id": "8aa06025-2c3f-4f1b-8b72-5dc63ccd9805",
   "metadata": {},
   "outputs": [
    {
     "name": "stderr",
     "output_type": "stream",
     "text": [
      "C:\\Users\\maluk\\anaconda3\\Lib\\site-packages\\h5py\\__init__.py:36: UserWarning: h5py is running against HDF5 1.14.6 when it was built against 1.14.5, this may cause problems\n",
      "  _warn((\"h5py is running against HDF5 {0} when it was built against {1}, \"\n"
     ]
    },
    {
     "name": "stdout",
     "output_type": "stream",
     "text": [
      "tf.Tensor(18, shape=(), dtype=int32)\n"
     ]
    }
   ],
   "source": [
    "import tensorflow as tf\n",
    "scaler=tf.constant(18)\n",
    "print(scaler)"
   ]
  },
  {
   "cell_type": "code",
   "execution_count": 15,
   "id": "b7e874de-749b-422e-a2bf-5f331af821af",
   "metadata": {},
   "outputs": [
    {
     "name": "stdout",
     "output_type": "stream",
     "text": [
      "tf.Tensor([1 2 3 4 5], shape=(5,), dtype=int32)\n",
      "tf.Tensor(\n",
      "[[1 2]\n",
      " [3 4]], shape=(2, 2), dtype=int32)\n"
     ]
    }
   ],
   "source": [
    "import tensorflow as tf\n",
    "vector=tf.constant([1,2,3,4,5])\n",
    "print(vector)\n",
    "\n",
    "martix=tf.constant([[1,2],[3,4]])\n",
    "print(martix)"
   ]
  },
  {
   "cell_type": "code",
   "execution_count": 21,
   "id": "eb654d36-8788-4752-a14a-d58a20e4b77c",
   "metadata": {},
   "outputs": [
    {
     "name": "stdout",
     "output_type": "stream",
     "text": [
      "<dtype: 'float64'>\n"
     ]
    }
   ],
   "source": [
    "float_tensor=tf.constant([1.2,2.0,3.0], dtype=tf.float64)\n",
    "print(float_tensor.dtype)\n",
    "\n"
   ]
  },
  {
   "cell_type": "code",
   "execution_count": 27,
   "id": "823f4142-1274-4e62-bf18-890de4a4f1dd",
   "metadata": {},
   "outputs": [
    {
     "name": "stdout",
     "output_type": "stream",
     "text": [
      "tf.Tensor([5 7 9], shape=(3,), dtype=int32)\n",
      "tf.Tensor([ 4 10 18], shape=(3,), dtype=int32)\n",
      "tf.Tensor(2.0, shape=(), dtype=float32)\n"
     ]
    }
   ],
   "source": [
    "a=tf.constant([1,2,3])\n",
    "b=tf.constant([4,5,6])\n",
    "sum_tensor=tf.add(a,b)\n",
    "print(sum_tensor)\n",
    "\n",
    "product_tensor=tf.multiply(a,b)\n",
    "print(product_tensor)\n",
    "\n",
    "mean_tensor=tf.reduce_mean(tf.cast(a,dtype=tf.float32))\n",
    "print(mean_tensor)"
   ]
  },
  {
   "cell_type": "code",
   "execution_count": null,
   "id": "c6dba528-4b7e-4a3c-89f2-250d4ee83336",
   "metadata": {},
   "outputs": [],
   "source": []
  }
 ],
 "metadata": {
  "kernelspec": {
   "display_name": "Python 3 (ipykernel)",
   "language": "python",
   "name": "python3"
  },
  "language_info": {
   "codemirror_mode": {
    "name": "ipython",
    "version": 3
   },
   "file_extension": ".py",
   "mimetype": "text/x-python",
   "name": "python",
   "nbconvert_exporter": "python",
   "pygments_lexer": "ipython3",
   "version": "3.12.7"
  }
 },
 "nbformat": 4,
 "nbformat_minor": 5
}
