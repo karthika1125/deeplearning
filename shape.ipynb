{
 "cells": [
  {
   "cell_type": "code",
   "execution_count": 1,
   "id": "0c9c05de-86ff-4635-8517-e4437ae29cd2",
   "metadata": {},
   "outputs": [
    {
     "name": "stderr",
     "output_type": "stream",
     "text": [
      "C:\\Users\\maluk\\anaconda3\\Lib\\site-packages\\h5py\\__init__.py:36: UserWarning: h5py is running against HDF5 1.14.6 when it was built against 1.14.5, this may cause problems\n",
      "  _warn((\"h5py is running against HDF5 {0} when it was built against {1}, \"\n"
     ]
    },
    {
     "name": "stdout",
     "output_type": "stream",
     "text": [
      "Tensor: tf.Tensor(\n",
      "[[1 2 3]\n",
      " [4 5 6]], shape=(2, 3), dtype=int32)\n",
      "Tensor Shape: (2, 3)\n"
     ]
    }
   ],
   "source": [
    "import tensorflow as tf\n",
    "tensor=tf.constant([[1,2,3],[4,5,6]])\n",
    "shape=tensor.shape\n",
    "print('Tensor:',tensor)\n",
    "print('Tensor Shape:',shape)"
   ]
  },
  {
   "cell_type": "code",
   "execution_count": 3,
   "id": "4089c24e-f802-4030-b674-4815d3557de9",
   "metadata": {},
   "outputs": [
    {
     "name": "stdout",
     "output_type": "stream",
     "text": [
      "Tensor Size: tf.Tensor(6, shape=(), dtype=int32)\n"
     ]
    }
   ],
   "source": [
    "size=tf.size(tensor)\n",
    "print('Tensor Size:',size)"
   ]
  },
  {
   "cell_type": "code",
   "execution_count": 9,
   "id": "3c1fdb65-3291-4948-9c79-e9b679e2698f",
   "metadata": {},
   "outputs": [
    {
     "name": "stdout",
     "output_type": "stream",
     "text": [
      "Rank of scaler : 0\n",
      "Rank of vector : 1\n",
      "Rank of matrix : 2\n",
      "Rank of 3d : 3\n"
     ]
    }
   ],
   "source": [
    "import tensorflow as tf\n",
    "scaler=tf.constant(5)\n",
    "vector=tf.constant([1,2,3])\n",
    "martix=tf.constant([[2,3,7],[5,9,7]])\n",
    "tensor_3d = tf.constant([\n",
    "    [\n",
    "        [1, 2, 3, 4],\n",
    "        [5, 6, 7, 8],\n",
    "        [9, 10, 11, 12]\n",
    "    ],\n",
    "    [\n",
    "        [13, 14, 15, 16],\n",
    "        [17, 18, 19, 20],\n",
    "        [21, 22, 23, 24]\n",
    "    ]\n",
    "])\n",
    "\n",
    "rank_scaler=tf.rank(scaler)\n",
    "rank_vector=tf.rank(vector)\n",
    "rank_matrix=tf.rank(martix)\n",
    "rank_tensor_3d=tf.rank(tensor_3d)\n",
    "\n",
    "print('Rank of scaler :',rank_scaler.numpy())\n",
    "print('Rank of vector :',rank_vector.numpy())\n",
    "print('Rank of matrix :', rank_matrix.numpy())\n",
    "print('Rank of 3d :',rank_tensor_3d.numpy() )"
   ]
  },
  {
   "cell_type": "code",
   "execution_count": 13,
   "id": "47133822-be32-46a9-ac03-912e7cc86d27",
   "metadata": {},
   "outputs": [
    {
     "name": "stdout",
     "output_type": "stream",
     "text": [
      "(2, 3)\n",
      "2\n",
      "3\n"
     ]
    }
   ],
   "source": [
    "import tensorflow as tf\n",
    "tensor=tf.constant([[5,6,8],[7,2,3]])\n",
    "shape=tensor.shape\n",
    "\n",
    "dim1_length=shape[0]\n",
    "dim2_length=shape[1]\n",
    "print(shape)\n",
    "print(dim1_length) #2rows\n",
    "print(dim2_length)#3columns"
   ]
  },
  {
   "cell_type": "code",
   "execution_count": 17,
   "id": "1f57944e-165f-4aaa-a6a1-03cfbf697516",
   "metadata": {},
   "outputs": [
    {
     "data": {
      "text/plain": [
       "<tf.Variable 'Variable:0' shape=(2,) dtype=int32, numpy=array([4, 9])>"
      ]
     },
     "execution_count": 17,
     "metadata": {},
     "output_type": "execute_result"
    }
   ],
   "source": [
    "import tensorflow as tf\n",
    "tensor=tf.Variable([4, 8])\n",
    "tensor[1].assign(9)\n",
    "tensor"
   ]
  },
  {
   "cell_type": "code",
   "execution_count": 25,
   "id": "74f3e410-f519-4f03-a336-8f341e4a052c",
   "metadata": {},
   "outputs": [
    {
     "name": "stdout",
     "output_type": "stream",
     "text": [
      "6.0\n"
     ]
    }
   ],
   "source": [
    "import tensorflow as tf\n",
    "x=tf.Variable(3.0)\n",
    "\n",
    "with tf.GradientTape() as tape:\n",
    "    y=x**2+2*1+1\n",
    "dy_dx = tape.gradient(y, x)  \n",
    "print(dy_dx.numpy())  \n",
    "\n",
    "\n",
    "\n"
   ]
  },
  {
   "cell_type": "code",
   "execution_count": null,
   "id": "7c17fa0a-2b93-4107-9a5f-6e5434bb8328",
   "metadata": {},
   "outputs": [],
   "source": []
  }
 ],
 "metadata": {
  "kernelspec": {
   "display_name": "Python 3 (ipykernel)",
   "language": "python",
   "name": "python3"
  },
  "language_info": {
   "codemirror_mode": {
    "name": "ipython",
    "version": 3
   },
   "file_extension": ".py",
   "mimetype": "text/x-python",
   "name": "python",
   "nbconvert_exporter": "python",
   "pygments_lexer": "ipython3",
   "version": "3.12.7"
  }
 },
 "nbformat": 4,
 "nbformat_minor": 5
}
